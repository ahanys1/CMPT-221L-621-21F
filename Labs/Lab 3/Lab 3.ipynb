{
 "cells": [
  {
   "cell_type": "markdown",
   "source": [
    "# Lab Three\n",
    "---\n",
    "\n",
    "Ok for this lab we're going to reiterate a lot of the things that we went over in class.\n",
    "\n",
    "Our Goals are:\n",
    "- Understanding Variable Types\n",
    "- Defining Variables\n",
    "- Using Conditionals\n",
    "- Using Loops\n",
    "- Creating Objects\n",
    "- Writing a function\n"
   ],
   "metadata": {}
  },
  {
   "cell_type": "markdown",
   "source": [
    "## What's the difference between Null and undefined?"
   ],
   "metadata": {}
  },
  {
   "cell_type": "markdown",
   "source": [
    "Null: Somthing we created, declared yet empty calue.\r\n",
    "Undefined: Somthing not created by the programmer, not declared, empty value."
   ],
   "metadata": {}
  },
  {
   "cell_type": "markdown",
   "source": [
    "## List the 3 Variable Types and Use Them!"
   ],
   "metadata": {}
  },
  {
   "cell_type": "markdown",
   "source": [],
   "metadata": {}
  },
  {
   "cell_type": "code",
   "execution_count": null,
   "source": [
    "let string = \"String\";\r\n",
    "let number = 17;\r\n",
    "let boolean = true;"
   ],
   "outputs": [],
   "metadata": {}
  },
  {
   "cell_type": "markdown",
   "source": [
    "## Use an If/Else If/Else Statement and a Switch Case statement"
   ],
   "metadata": {}
  },
  {
   "cell_type": "code",
   "execution_count": null,
   "source": [
    "let statement = true;\r\n",
    "\r\n",
    "if(statement){\r\n",
    "    console.log(\"statement is true\");\r\n",
    "} else if(statement = false){\r\n",
    "    console.log(\"Statement is false.\");\r\n",
    "} else{\r\n",
    "    console.log(\"statement is not boolean\");\r\n",
    "}\r\n",
    "\r\n",
    "switch(statement){\r\n",
    "    case true:\r\n",
    "        console.log(\"statement is true\");\r\n",
    "        break;\r\n",
    "    case false:\r\n",
    "        console.log(\"Statement is false.\");\r\n",
    "        break;\r\n",
    "}\r\n"
   ],
   "outputs": [],
   "metadata": {}
  },
  {
   "cell_type": "markdown",
   "source": [
    "## Use a For and a While Loop"
   ],
   "metadata": {}
  },
  {
   "cell_type": "code",
   "execution_count": null,
   "source": [
    "for(let i=1;i<=10;i++){\r\n",
    "    console.log(i);\r\n",
    "}\r\n",
    "let j = 1;\r\n",
    "while(j<=10){\r\n",
    "    console.log(j);\r\n",
    "    j++;\r\n",
    "}"
   ],
   "outputs": [],
   "metadata": {}
  },
  {
   "cell_type": "markdown",
   "source": [
    "## Make an object!"
   ],
   "metadata": {}
  },
  {
   "cell_type": "code",
   "execution_count": null,
   "source": [
    "let pokemon = {\r\n",
    "    name: \"charmander\",\r\n",
    "    type: \"fire\",\r\n",
    "    dexNum: 4\r\n",
    "}\r\n"
   ],
   "outputs": [],
   "metadata": {}
  },
  {
   "cell_type": "markdown",
   "source": [
    "## Make a function, It can do anything!"
   ],
   "metadata": {}
  },
  {
   "cell_type": "code",
   "execution_count": null,
   "source": [
    "function add_10(start){\r\n",
    "    return start+10;\r\n",
    "}\r\n",
    "console.log(add_10(59));"
   ],
   "outputs": [],
   "metadata": {}
  },
  {
   "cell_type": "markdown",
   "source": [
    "## Optional: Checkout HackerRank and try a problem in Javascript"
   ],
   "metadata": {}
  }
 ],
 "metadata": {
  "orig_nbformat": 4,
  "language_info": {
   "name": "javascript",
   "version": "10.22.0",
   "mimetype": "application/javascript",
   "file_extension": ".js"
  },
  "kernelspec": {
   "name": "javascript",
   "display_name": "Javascript (Node.js)",
   "language": "javascript"
  }
 },
 "nbformat": 4,
 "nbformat_minor": 2
}